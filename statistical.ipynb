{
 "cells": [
  {
   "cell_type": "code",
   "execution_count": 2,
   "id": "c3129610",
   "metadata": {},
   "outputs": [
    {
     "name": "stderr",
     "output_type": "stream",
     "text": [
      "/tmp/ipykernel_828353/218185625.py:11: FutureWarning: Series.fillna with 'method' is deprecated and will raise in a future version. Use obj.ffill() or obj.bfill() instead.\n",
      "  train['pm2.5'] = train['pm2.5'].fillna(method='ffill').fillna(method='bfill')\n"
     ]
    },
    {
     "name": "stdout",
     "output_type": "stream",
     "text": [
      "Simple statistical model submission created!\n"
     ]
    }
   ],
   "source": [
    "# SIMPLE STATISTICAL MODEL AS LAST RESORT\n",
    "import pandas as pd\n",
    "import numpy as np\n",
    "\n",
    "# Load data\n",
    "train = pd.read_csv('Data/train.csv', parse_dates=['datetime'], index_col='datetime')\n",
    "test = pd.read_csv('Data/test .csv', parse_dates=['datetime'], index_col='datetime')\n",
    "sample_sub = pd.read_csv('Data/sample_submission .csv')\n",
    "\n",
    "# Handle missing values simply\n",
    "train['pm2.5'] = train['pm2.5'].fillna(method='ffill').fillna(method='bfill')\n",
    "\n",
    "# Create simple time-based features\n",
    "train['hour'] = train.index.hour\n",
    "train['month'] = train.index.month\n",
    "\n",
    "# Calculate hourly averages\n",
    "hourly_avg = train.groupby('hour')['pm2.5'].mean()\n",
    "monthly_avg = train.groupby('month')['pm2.5'].mean()\n",
    "\n",
    "# Create predictions based on time patterns\n",
    "test['hour'] = test.index.hour\n",
    "test['month'] = test.index.month\n",
    "\n",
    "# Simple prediction: average of hourly and monthly patterns\n",
    "predictions = []\n",
    "for i, row in test.iterrows():\n",
    "    hour_avg = hourly_avg[row['hour']]\n",
    "    month_avg = monthly_avg[row['month']]\n",
    "    predictions.append((hour_avg + month_avg) / 2)\n",
    "\n",
    "# Create submission\n",
    "submission = pd.DataFrame({\n",
    "    'row ID': sample_sub['row ID'],\n",
    "    'pm2.5': predictions\n",
    "})\n",
    "\n",
    "# Save\n",
    "submission.to_csv('submissions/simple_statistical_model.csv', index=False)\n",
    "print(\"Simple statistical model submission created!\")"
   ]
  },
  {
   "cell_type": "code",
   "execution_count": 3,
   "id": "9c77ee74",
   "metadata": {},
   "outputs": [
    {
     "name": "stdout",
     "output_type": "stream",
     "text": [
      "=== TEST SET ANALYSIS ===\n",
      "Test set date range: 2013-07-02 04:00:00 to 2014-12-31 23:00:00\n",
      "Test set size: 13148\n",
      "Test set columns: ['No', 'DEWP', 'TEMP', 'PRES', 'Iws', 'Is', 'Ir', 'cbwd_NW', 'cbwd_SE', 'cbwd_cv', 'hour', 'month']\n",
      "\n",
      "=== TRAIN vs TEST COMPARISON ===\n",
      "Train date range: 2010-01-01 00:00:00 to 2013-07-02 03:00:00\n",
      "Test date range: 2013-07-02 04:00:00 to 2014-12-31 23:00:00\n",
      "\n",
      "Date continuity check:\n",
      "Train date frequency: datetime\n",
      "0 days 01:00:00    30675\n",
      "Name: count, dtype: int64\n",
      "Test date frequency: datetime\n",
      "0 days 01:00:00    13147\n",
      "Name: count, dtype: int64\n",
      "\n",
      "First few test dates:\n",
      "DatetimeIndex(['2013-07-02 04:00:00', '2013-07-02 05:00:00',\n",
      "               '2013-07-02 06:00:00', '2013-07-02 07:00:00',\n",
      "               '2013-07-02 08:00:00', '2013-07-02 09:00:00',\n",
      "               '2013-07-02 10:00:00', '2013-07-02 11:00:00',\n",
      "               '2013-07-02 12:00:00', '2013-07-02 13:00:00'],\n",
      "              dtype='datetime64[ns]', name='datetime', freq=None)\n"
     ]
    }
   ],
   "source": [
    "# EMERGENCY ANALYSIS OF TEST SET\n",
    "print(\"=== TEST SET ANALYSIS ===\")\n",
    "print(f\"Test set date range: {test.index.min()} to {test.index.max()}\")\n",
    "print(f\"Test set size: {len(test)}\")\n",
    "print(f\"Test set columns: {test.columns.tolist()}\")\n",
    "\n",
    "# Check if test set has different characteristics\n",
    "print(\"\\n=== TRAIN vs TEST COMPARISON ===\")\n",
    "print(\"Train date range:\", train.index.min(), \"to\", train.index.max())\n",
    "print(\"Test date range:\", test.index.min(), \"to\", test.index.max())\n",
    "\n",
    "# Check for any time gaps or inconsistencies\n",
    "train_dates = pd.Series(train.index)\n",
    "test_dates = pd.Series(test.index)\n",
    "\n",
    "print(\"\\nDate continuity check:\")\n",
    "print(\"Train date frequency:\", train_dates.diff().value_counts().head())\n",
    "print(\"Test date frequency:\", test_dates.diff().value_counts().head())\n",
    "\n",
    "# Check if we need to predict in a different way\n",
    "print(\"\\nFirst few test dates:\")\n",
    "print(test.index[:10])"
   ]
  }
 ],
 "metadata": {
  "kernelspec": {
   "display_name": "deepclass",
   "language": "python",
   "name": "python3"
  },
  "language_info": {
   "codemirror_mode": {
    "name": "ipython",
    "version": 3
   },
   "file_extension": ".py",
   "mimetype": "text/x-python",
   "name": "python",
   "nbconvert_exporter": "python",
   "pygments_lexer": "ipython3",
   "version": "3.10.16"
  }
 },
 "nbformat": 4,
 "nbformat_minor": 5
}
